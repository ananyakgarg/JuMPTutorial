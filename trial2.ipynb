{
 "cells": [
  {
   "cell_type": "markdown",
   "metadata": {},
   "source": [
    "# Picture Frame Problem: Formulation 2"
   ]
  },
  {
   "cell_type": "markdown",
   "metadata": {},
   "source": [
    "A company produces two types of picture frames: each type-1 frame uses 2 hours of labor and 1 ounce of metal and brings $2.25 in profit, and each type-2 frame uses 1 hour of labor and 2 ounces of metal and brings $2.60 in\n",
    "profit. Each week 4000 labor hours and 5000 ounces of metal are available and the company aims to maximize its weekly profit with an optimal production plan.\n",
    "\n",
    "To model this problem, let $x_1$ denote the number of type-1 frames produced and $x_2$ denote the number of type-2 frames produced. Then, this can be formulated as the following LP:\n",
    "\n",
    "\\begin{align*}\n",
    "\\underset{x}{\\max} \\quad &z = 2.25x_1 + 2.6 x_2 \\\\\n",
    "\\text{s.t.} \\ \\ \\quad &2x_1 + x_2 \\leq 4000, \\\\\n",
    "&x_1 + 2x_2 \\leq 5000, \\\\\n",
    "&x \\geq 0.\n",
    "\\end{align*}\n",
    "\n",
    "Let's model this problem using JuMP."
   ]
  },
  {
   "cell_type": "markdown",
   "metadata": {},
   "source": [
    "Sometimes, problems are large and span more than just a few variables. Let's see how we would model problems with many variables and constraints."
   ]
  },
  {
   "cell_type": "markdown",
   "metadata": {},
   "source": [
    "We can use ranges to represent the amount of variables or constraints for a specific said type. "
   ]
  },
  {
   "cell_type": "markdown",
   "metadata": {},
   "source": [
    "For example, if we had multiple y[1], y[2], y[3], we could represent it as follows"
   ]
  },
  {
   "cell_type": "code",
   "execution_count": 4,
   "metadata": {},
   "outputs": [],
   "source": [
    "using JuMP\n",
    "using HiGHS\n"
   ]
  },
  {
   "cell_type": "markdown",
   "metadata": {},
   "source": [
    "First, let's define our model. \n"
   ]
  },
  {
   "cell_type": "code",
   "execution_count": 9,
   "metadata": {},
   "outputs": [
    {
     "data": {
      "text/plain": [
       "A JuMP Model\n",
       "Feasibility problem with:\n",
       "Variables: 0\n",
       "Model mode: AUTOMATIC\n",
       "CachingOptimizer state: EMPTY_OPTIMIZER\n",
       "Solver name: HiGHS"
      ]
     },
     "execution_count": 9,
     "metadata": {},
     "output_type": "execute_result"
    }
   ],
   "source": [
    "modelNew = Model(HiGHS.Optimizer)"
   ]
  },
  {
   "cell_type": "markdown",
   "metadata": {},
   "source": [
    "Let's define multiple variables."
   ]
  },
  {
   "cell_type": "code",
   "execution_count": 10,
   "metadata": {},
   "outputs": [],
   "source": [
    "@variable(modelNew, y[1:3] >= 0);"
   ]
  },
  {
   "cell_type": "markdown",
   "metadata": {},
   "source": [
    "We can also define multiple constriants the same way."
   ]
  },
  {
   "cell_type": "code",
   "execution_count": 12,
   "metadata": {},
   "outputs": [],
   "source": [
    "@constraint(modelNew, c[i = 1:2], y[i] <= 2y[i + 1]);\n"
   ]
  },
  {
   "cell_type": "markdown",
   "metadata": {},
   "source": [
    "The above code produces:\n",
    "\n",
    "$y1 <= 2y2$\n",
    "\n",
    " \n",
    "$y2 <= 2y3$"
   ]
  },
  {
   "cell_type": "markdown",
   "metadata": {},
   "source": [
    "We can also add vectorized constraints:"
   ]
  },
  {
   "cell_type": "code",
   "execution_count": 14,
   "metadata": {},
   "outputs": [],
   "source": [
    "modelVectorized = Model(HiGHS.Optimizer);\n",
    "@variable(modelVectorized, x[1:2] >= 0);\n",
    "A = [1 2; 3 4]; # Creates a 2x2 matrix of the first components over the second\n",
    "b = [5, 6]; # RHS Vector \n",
    "@constraint(modelVectorized, con, A * x .== b); # Notice the dot before the ==, tells Julia all the operations need to be done component wise\n"
   ]
  },
  {
   "cell_type": "markdown",
   "metadata": {},
   "source": [
    "Best Practices\n",
    "- Write code that is separate from the model\n",
    "- Use dictionaries to make the data more modualar\n",
    "- Use expressions to write more readable code\n"
   ]
  },
  {
   "cell_type": "markdown",
   "metadata": {},
   "source": [
    "Vectors of symbols can be defined as :"
   ]
  },
  {
   "cell_type": "code",
   "execution_count": 22,
   "metadata": {},
   "outputs": [
    {
     "data": {
      "text/latex": [
       "$$ \\begin{aligned}\n",
       "\\max\\quad & 2.25 frame_{type\\_1} + 2.6 frame_{type\\_2}\\\\\n",
       "\\text{Subject to} \\quad & 2 frame_{type\\_1} + frame_{type\\_2} \\leq 4000.0\\\\\n",
       " & frame_{type\\_1} + 2 frame_{type\\_2} \\leq 5000.0\\\\\n",
       " & frame_{type\\_1} \\geq 0.0\\\\\n",
       " & frame_{type\\_2} \\geq 0.0\\\\\n",
       "\\end{aligned} $$"
      ]
     },
     "metadata": {},
     "output_type": "display_data"
    }
   ],
   "source": [
    "picframe2 = Model(HiGHS.Optimizer);\n",
    "types = [:type_1, :type_2]; \n",
    "labor = Dict(:type_1 => 2, :type_2 => 1);\n",
    "resources = Dict(:type_1 => 1, :type_2 => 2);\n",
    "profit = Dict(:type_1 => 2.25, :type_2 => 2.6);\n",
    "maxLabor = 4000\n",
    "maxResources = 5000\n",
    "@variable(picframe2, frame[types] >= 0); # types is x1 and x2 \n",
    "@constraint(picframe2, laborConstraint, sum(labor[i] * frame[i] for i in types) <= maxLabor) # labor constraint\n",
    "@constraint(picframe2, resourceConstraint, sum(resources[i] * frame[i] for i in types) <= maxResources) # resource constraint\n",
    "\n",
    "@objective(picframe2, Max, sum(profit[i] * frame[i] for i in types));\n",
    "\n",
    "\n",
    "print(picframe2)\n"
   ]
  },
  {
   "cell_type": "markdown",
   "metadata": {},
   "source": [
    "Let's optimize!"
   ]
  },
  {
   "cell_type": "code",
   "execution_count": 23,
   "metadata": {},
   "outputs": [
    {
     "name": "stdout",
     "output_type": "stream",
     "text": [
      "Presolving model\n",
      "2 rows, 2 cols, 4 nonzeros\n",
      "2 rows, 2 cols, 4 nonzeros\n",
      "Presolve : Reductions: rows 2(-0); columns 2(-0); elements 4(-0)\n",
      "Solving the presolved LP\n",
      "Using EKK dual simplex solver - serial\n",
      "  Iteration        Objective     Infeasibilities num(sum)\n",
      "          0    -4.8499947627e+00 Ph1: 2(6); Du: 2(4.84999) 0s\n",
      "          2    -7.4500000000e+03 Pr: 0(0) 0s\n",
      "Solving the original LP from the solution after postsolve\n",
      "Model   status      : Optimal\n",
      "Simplex   iterations: 2\n",
      "Objective value     :  7.4500000000e+03\n",
      "HiGHS run time      :          0.00\n",
      "solution_summary(picframe2) = * Solver : HiGHS\n",
      "\n",
      "* Status\n",
      "  Termination status : OPTIMAL\n",
      "  Primal status      : FEASIBLE_POINT\n",
      "  Dual status        : FEASIBLE_POINT\n",
      "  Message from the solver:\n",
      "  \"kHighsModelStatusOptimal\"\n",
      "\n",
      "* Candidate solution\n",
      "  Objective value      : 7.45000e+03\n",
      "  Objective bound      : 7.45000e+03\n",
      "  Relative gap         : Inf\n",
      "  Dual objective value : 7.45000e+03\n",
      "\n",
      "* Work counters\n",
      "  Solve time (sec)   : 1.56771e-03\n",
      "  Simplex iterations : 2\n",
      "  Barrier iterations : 0\n",
      "  Node count         : -1\n",
      "\n"
     ]
    },
    {
     "data": {
      "text/plain": [
       "* Solver : HiGHS\n",
       "\n",
       "* Status\n",
       "  Termination status : OPTIMAL\n",
       "  Primal status      : FEASIBLE_POINT\n",
       "  Dual status        : FEASIBLE_POINT\n",
       "  Message from the solver:\n",
       "  \"kHighsModelStatusOptimal\"\n",
       "\n",
       "* Candidate solution\n",
       "  Objective value      : 7.45000e+03\n",
       "  Objective bound      : 7.45000e+03\n",
       "  Relative gap         : Inf\n",
       "  Dual objective value : 7.45000e+03\n",
       "\n",
       "* Work counters\n",
       "  Solve time (sec)   : 1.56771e-03\n",
       "  Simplex iterations : 2\n",
       "  Barrier iterations : 0\n",
       "  Node count         : -1\n"
      ]
     },
     "execution_count": 23,
     "metadata": {},
     "output_type": "execute_result"
    }
   ],
   "source": [
    "optimize!(picframe2)\n",
    "@show solution_summary(picframe2)"
   ]
  },
  {
   "cell_type": "code",
   "execution_count": 24,
   "metadata": {},
   "outputs": [
    {
     "name": "stdout",
     "output_type": "stream",
     "text": [
      "primal_status(picframe2) = MathOptInterface.FEASIBLE_POINT\n",
      "dual_status(picframe2) = MathOptInterface.FEASIBLE_POINT\n",
      "objective_value(picframe2) = 7450.0\n",
      "value(frame[:type_1]) = 1000.0\n",
      "value(frame[:type_2]) = 2000.0\n",
      "shadow_price(laborConstraint) = 0.6333333333333333\n",
      "shadow_price(resourceConstraint) = 0.9833333333333334\n"
     ]
    }
   ],
   "source": [
    "#Status of primal problem\n",
    "@show primal_status(picframe2);\n",
    "#Status of dual problem\n",
    "@show dual_status(picframe2);\n",
    "#Final objective value\n",
    "@show objective_value(picframe2);\n",
    "#Value of type 1 at solution\n",
    "@show value(frame[:type_1]);\n",
    "#Value of type 2 at solution\n",
    "@show value(frame[:type_2]);\n",
    "#Shadow price of labor constraint (value of dual variable for labor) at solution\n",
    "@show shadow_price(laborConstraint);\n",
    "#Shadow price of metal constraint (value of dual variable for metal) at solution\n",
    "@show shadow_price(resourceConstraint);"
   ]
  }
 ],
 "metadata": {
  "kernelspec": {
   "display_name": "Julia 1.8.2",
   "language": "julia",
   "name": "julia-1.8"
  },
  "language_info": {
   "file_extension": ".jl",
   "mimetype": "application/julia",
   "name": "julia",
   "version": "1.8.2"
  },
  "orig_nbformat": 4
 },
 "nbformat": 4,
 "nbformat_minor": 2
}
